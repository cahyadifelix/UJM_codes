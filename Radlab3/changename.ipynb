{
 "cells": [
  {
   "cell_type": "code",
   "execution_count": 1,
   "metadata": {},
   "outputs": [],
   "source": [
    "import os\n",
    "from datetime import datetime\n",
    "from os import listdir\n",
    "from os.path import isfile, join"
   ]
  },
  {
   "cell_type": "code",
   "execution_count": 2,
   "metadata": {},
   "outputs": [],
   "source": [
    "mypath = \"GROUPa\"\n",
    "\n",
    "onlyfiles = [f for f in listdir(mypath) if isfile(join(mypath, f))]"
   ]
  },
  {
   "cell_type": "code",
   "execution_count": 3,
   "metadata": {},
   "outputs": [],
   "source": [
    "#os.rename(\"GROUPa/GA000000000000000.txt\", \"GROUPa/aaaaa\")"
   ]
  },
  {
   "cell_type": "code",
   "execution_count": 7,
   "metadata": {},
   "outputs": [],
   "source": [
    "#for fname in onlyfiles:\n",
    "#    file = open(f\"{mypath}/{fname}\")\n",
    "#    #print(fname[:-4])\n",
    "#    content = str(file.readlines()[2][6:-1])\n",
    "#    datetime_stuff = datetime.strptime(content, \"%a %b %d %X CET %Y\")\n",
    "#    datestr = datetime.strftime(datetime_stuff,\"%Y-%m-%d-%H-%M-%S\")\n",
    "#    file.close()\n",
    "#    os.rename(f\"{mypath}/{fname}\", f\"{mypath}/{fname[:-4]}_{datestr}.txt\")"
   ]
  },
  {
   "cell_type": "code",
   "execution_count": null,
   "metadata": {},
   "outputs": [],
   "source": []
  }
 ],
 "metadata": {
  "kernelspec": {
   "display_name": "jyu_learn",
   "language": "python",
   "name": "python3"
  },
  "language_info": {
   "codemirror_mode": {
    "name": "ipython",
    "version": 3
   },
   "file_extension": ".py",
   "mimetype": "text/x-python",
   "name": "python",
   "nbconvert_exporter": "python",
   "pygments_lexer": "ipython3",
   "version": "3.10.13"
  }
 },
 "nbformat": 4,
 "nbformat_minor": 2
}
